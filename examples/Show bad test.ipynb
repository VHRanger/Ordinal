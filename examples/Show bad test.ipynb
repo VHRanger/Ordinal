{
 "cells": [
  {
   "cell_type": "code",
   "execution_count": null,
   "metadata": {},
   "outputs": [],
   "source": [
    "# Pick up package from parent folder\n",
    "import os,sys,inspect\n",
    "currentdir = os.path.dirname(os.path.abspath(\n",
    "    inspect.getfile(inspect.currentframe())))\n",
    "parentdir = os.path.dirname(currentdir)\n",
    "parent2dir = os.path.dirname(parentdir)\n",
    "sys.path.insert(0,parentdir)\n",
    "sys.path.insert(0,parent2dir)"
   ]
  },
  {
   "cell_type": "code",
   "execution_count": 9,
   "metadata": {},
   "outputs": [],
   "source": [
    "import skltemplate\n",
    "from skltemplate import OrderedProbitRanker"
   ]
  },
  {
   "cell_type": "code",
   "execution_count": 80,
   "metadata": {},
   "outputs": [],
   "source": [
    "from sklearn.preprocessing import StandardScaler\n",
    "from sklearn.datasets import make_blobs\n",
    "from sklearn.utils import shuffle\n",
    "from sklearn.metrics import accuracy_score\n",
    "from sklearn.utils.testing import assert_array_equal, assert_allclose, assert_raises\n",
    "import numpy as np\n",
    "import pandas as pd"
   ]
  },
  {
   "cell_type": "code",
   "execution_count": null,
   "metadata": {},
   "outputs": [],
   "source": []
  },
  {
   "cell_type": "code",
   "execution_count": null,
   "metadata": {},
   "outputs": [],
   "source": []
  },
  {
   "cell_type": "code",
   "execution_count": 83,
   "metadata": {},
   "outputs": [],
   "source": [
    "X_m, y_m = make_blobs(n_samples=300, random_state=0)\n",
    "X_m, y_m = shuffle(X_m, y_m, random_state=7)\n",
    "X_m = StandardScaler().fit_transform(X_m)\n",
    "# generate binary problem from multi-class one\n",
    "y_b = y_m[y_m != 2]\n",
    "X_b = X_m[y_m != 2]\n",
    "\n",
    "for (X, y) in [(X_m, y_m), (X_b, y_b)]:\n",
    "    classes = np.unique(y)\n",
    "    n_classes = len(classes)\n",
    "    n_samples, n_features = X.shape\n",
    "    classifier = OrderedProbitRanker(fit_intercept=True)\n",
    "    # fit\n",
    "    classifier.fit(X, y)\n",
    "    # with lists\n",
    "    classifier.fit(X.tolist(), y.tolist())\n",
    "    assert hasattr(classifier, \"classes_\")\n",
    "    y_pred = classifier.predict(X)\n",
    "    assert y_pred.shape == (n_samples,)\n",
    "    \n",
    "    # training set performance\n",
    "#     assert accuracy_score(y, y_pred) > 0.83\n",
    "    \n",
    "    # predict_proba agrees with predict\n",
    "    y_prob = classifier.predict_proba(X)\n",
    "    assert y_prob.shape == (n_samples, n_classes)\n",
    "    assert_array_equal(np.argmax(y_prob, axis=1), y_pred)\n",
    "    # check that probas for all classes sum to one\n",
    "    assert_allclose(np.sum(y_prob, axis=1), np.ones(n_samples))\n",
    "    with assert_raises(ValueError, msg=\"The classifier {} does not\"\n",
    "                       \" raise an error when the number of \"\n",
    "                       \"features in predict_proba is different \"\n",
    "                       \"from the number of features in fit.\"\n",
    "                       .format(\"op\")):\n",
    "        classifier.predict_proba(X.T)"
   ]
  },
  {
   "cell_type": "code",
   "execution_count": 84,
   "metadata": {
    "scrolled": false
   },
   "outputs": [
    {
     "name": "stdout",
     "output_type": "stream",
     "text": [
      "1.0\n",
      "[ 6.71474148 -6.3379798 ]\n",
      "-0.33465462260698986\n",
      "[-0.80781761]\n"
     ]
    }
   ],
   "source": [
    "print(((y - y_pred) == 0).mean())\n",
    "print(classifier.coef_)\n",
    "print(classifier.intercept_)\n",
    "print(classifier.cuts_)"
   ]
  },
  {
   "cell_type": "markdown",
   "metadata": {},
   "source": [
    "Problem here is that randomstate=0 for make_blobs makes very unordered classes"
   ]
  },
  {
   "cell_type": "code",
   "execution_count": 86,
   "metadata": {},
   "outputs": [
    {
     "data": {
      "text/plain": [
       "<matplotlib.axes._subplots.AxesSubplot at 0x1f3c45bf5c0>"
      ]
     },
     "execution_count": 86,
     "metadata": {},
     "output_type": "execute_result"
    },
    {
     "data": {
      "image/png": "[encoded data removed]",
      "text/plain": [
       "<Figure size 432x288 with 1 Axes>"
      ]
     },
     "metadata": {
      "needs_background": "light"
     },
     "output_type": "display_data"
    }
   ],
   "source": [
    "pd.DataFrame(np.concatenate((X,y.reshape((200,1))), axis=1)).plot(x=0, y=2, kind='scatter')"
   ]
  },
  {
   "cell_type": "code",
   "execution_count": null,
   "metadata": {},
   "outputs": [],
   "source": []
  }
 ],
 "metadata": {
  "kernelspec": {
   "display_name": "Python 3",
   "language": "python",
   "name": "python3"
  },
  "language_info": {
   "codemirror_mode": {
    "name": "ipython",
    "version": 3
   },
   "file_extension": ".py",
   "mimetype": "text/x-python",
   "name": "python",
   "nbconvert_exporter": "python",
   "pygments_lexer": "ipython3",
   "version": "3.7.1"
  }
 },
 "nbformat": 4,
 "nbformat_minor": 2
}
