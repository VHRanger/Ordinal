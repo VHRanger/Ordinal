{
 "cells": [
  {
   "cell_type": "code",
   "execution_count": 1,
   "metadata": {},
   "outputs": [],
   "source": [
    "# Pick up package from parent folder\n",
    "import os,sys,inspect\n",
    "currentdir = os.path.dirname(os.path.abspath(\n",
    "    inspect.getfile(inspect.currentframe())))\n",
    "parentdir = os.path.dirname(currentdir)\n",
    "sys.path.insert(0,parentdir)"
   ]
  },
  {
   "cell_type": "code",
   "execution_count": 2,
   "metadata": {},
   "outputs": [],
   "source": [
    "import numpy as np\n",
    "import pandas as pd\n",
    "from scipy.stats import norm\n",
    "import sklearn\n",
    "from sklearn import metrics\n",
    "import time\n",
    "\n",
    "import gensim.downloader as model_api\n",
    "\n",
    "import ordinal\n",
    "from ordinal import OrderedProbitRanker\n",
    "from ordinal import OrderedLogitRanker\n",
    "\n",
    "import AppReviews # generate review data from app store\n",
    "import docembedding"
   ]
  },
  {
   "cell_type": "code",
   "execution_count": null,
   "metadata": {},
   "outputs": [],
   "source": []
  },
  {
   "cell_type": "code",
   "execution_count": null,
   "metadata": {},
   "outputs": [],
   "source": []
  },
  {
   "cell_type": "code",
   "execution_count": 3,
   "metadata": {
    "scrolled": true
   },
   "outputs": [
    {
     "name": "stdout",
     "output_type": "stream",
     "text": [
      "(2.4724253858878653e-06, array([-9.27701658e-07, -6.72218822e-06, -8.76166511e-06, -4.40861584e-06]))\n",
      "1565.0433755322442\n",
      "[-18.39984029  16.20564413   3.27508509 -26.71431485]\n",
      "1.0\n"
     ]
    }
   ],
   "source": [
    "from sklearn.datasets import make_blobs\n",
    "from sklearn.utils import shuffle\n",
    "from sklearn.preprocessing import StandardScaler\n",
    "\n",
    "X, y = make_blobs(n_samples=300, random_state=42)\n",
    "X, y = shuffle(X, y, random_state=7)\n",
    "X = StandardScaler().fit_transform(X)\n",
    "\n",
    "opr = OrderedProbitRanker(method='L-BFGS-B', use_grad=False)\n",
    "opr.fit(X, y)\n",
    "\n",
    "ymasks = np.array([np.array(y == c_) for c_ in opr.classes_])\n",
    "betas = np.concatenate([opr.cuts_, opr.coef_])\n",
    "\n",
    "print(opr._ordered_probit_loss_and_grad(betas, ymasks, X))\n",
    "print(opr._orderedProbitLogLike(betas, ymasks, X))\n",
    "print(betas)\n",
    "print(opr.score(X, y))"
   ]
  },
  {
   "cell_type": "code",
   "execution_count": 4,
   "metadata": {},
   "outputs": [
    {
     "data": {
      "text/plain": [
       "-2.4724253858878653e-06"
      ]
     },
     "execution_count": 4,
     "metadata": {},
     "output_type": "execute_result"
    }
   ],
   "source": [
    "n_samples = ymasks.shape[1]\n",
    "n_cuts = ymasks.shape[0] - 1\n",
    "# TODO: xb can \"explode\" out of normal cdf bounds\n",
    "#       eg. values above 8 and below -8 have cdf of 0 and 1 \n",
    "#       regardless of cutoff point\n",
    "xb = X @ betas[n_cuts:]\n",
    "# ensure cutpoints remain ordered\n",
    "# TODO: This can be done by reparametrizing the cutpoints...\n",
    "cuts = np.sort(betas[:n_cuts])\n",
    "# cdf up to cutpoints\n",
    "cdf_areas = [norm.cdf(ct - xb) for ct in cuts]\n",
    "# last cdf area is from last cutpoint on\n",
    "cdf_areas.append(cdf_areas[-1])\n",
    "cdf_areas = np.array(cdf_areas)\n",
    "# pdf areas between cutpoints = cdf[i] - cdf[i-1]\n",
    "pdf_areas = np.empty_like(ymasks, dtype='float')\n",
    "# first is cdf[cut_0] - 0\n",
    "pdf_areas[0] = cdf_areas[0]\n",
    "# last is 1 - cdf[last_cut]\n",
    "pdf_areas[-1] = 1 - cdf_areas[-1]\n",
    "# middle cuts are cdf area between each\n",
    "for i in range(1, n_cuts):\n",
    "    pdf_areas[i] = cdf_areas[i] - cdf_areas[i-1]\n",
    "res = np.zeros(n_samples)\n",
    "for i in range(len(ymasks)):\n",
    "    res += (ymasks[i] * pdf_areas[i])\n",
    "res = np.sum(np.log(res))\n",
    "res"
   ]
  },
  {
   "cell_type": "code",
   "execution_count": null,
   "metadata": {},
   "outputs": [],
   "source": []
  },
  {
   "cell_type": "code",
   "execution_count": null,
   "metadata": {},
   "outputs": [],
   "source": []
  },
  {
   "cell_type": "code",
   "execution_count": null,
   "metadata": {},
   "outputs": [],
   "source": []
  },
  {
   "cell_type": "code",
   "execution_count": null,
   "metadata": {},
   "outputs": [],
   "source": []
  },
  {
   "cell_type": "code",
   "execution_count": 5,
   "metadata": {},
   "outputs": [
    {
     "name": "stderr",
     "output_type": "stream",
     "text": [
      "C:\\Anaconda3\\lib\\site-packages\\scipy\\optimize\\_minimize.py:518: RuntimeWarning: Method nelder-mead cannot handle constraints nor bounds.\n",
      "  RuntimeWarning)\n",
      "E:\\Ordinal-master\\ordinal\\probit.py:243: OptimizeWarning: Unknown solver options: maxfun\n",
      "  options={\"disp\":self.verbose, 'maxiter':50000, \"maxfun\":150000})\n"
     ]
    },
    {
     "name": "stdout",
     "output_type": "stream",
     "text": [
      "(575.8093376841421, array([ 2.17592149e+01, -9.23870343e-01,  3.02404087e-01,  1.97137120e-01,\n",
      "       -8.41257406e+01, -3.57810154e+04,  4.01308808e+03, -3.84396881e+04,\n",
      "        1.36201202e+01, -1.14359534e+03, -1.31169330e+04, -2.31754534e+05,\n",
      "       -9.69266174e+02, -5.64944669e+04, -1.45403021e+06, -3.76034254e+04,\n",
      "       -1.88931125e+05, -3.33024710e+04]))\n",
      "inf\n",
      "[ 5.81636586e-02  1.54150895e+00  2.89921339e+00  3.54314359e+00\n",
      "  4.20362514e+00 -2.62811094e-02  7.51365116e-03 -1.71419206e-02\n",
      "  7.28142327e-02 -5.61142824e-02  3.36518497e-02  1.45994030e-02\n",
      "  4.83031094e-02  3.56216073e-02 -7.11355698e-04 -7.59703143e-03\n",
      "  7.33084206e-03 -1.71157425e-01]\n",
      "0.525691699604743\n"
     ]
    },
    {
     "name": "stderr",
     "output_type": "stream",
     "text": [
      "E:\\Ordinal-master\\ordinal\\probit.py:109: RuntimeWarning: divide by zero encountered in log\n",
      "  res = np.sum(np.log(res))\n"
     ]
    }
   ],
   "source": [
    "from sklearn.datasets import load_boston, load_diabetes, load_linnerud\n",
    "from sklearn.preprocessing import KBinsDiscretizer\n",
    "\n",
    "N_CLASSES = 6\n",
    "\n",
    "boston = load_boston()\n",
    "X = boston['data']\n",
    "y = boston['target']\n",
    "kbd = KBinsDiscretizer(n_bins=N_CLASSES, encode='ordinal', strategy='kmeans')\n",
    "y = kbd.fit_transform(y.reshape(-1, 1)).flatten().astype(np.int32)\n",
    "\n",
    "opr = OrderedProbitRanker(method='nelder-mead', use_grad=False)\n",
    "opr.fit(X, y)\n",
    "\n",
    "ymasks = np.array([np.array(y == c_) for c_ in opr.classes_])\n",
    "betas = np.concatenate([opr.cuts_, opr.coef_])\n",
    "\n",
    "print(opr._ordered_probit_loss_and_grad(betas, ymasks, X))\n",
    "print(opr._orderedProbitLogLike(betas, ymasks, X))\n",
    "print(betas)\n",
    "print(opr.score(X, y))"
   ]
  },
  {
   "cell_type": "code",
   "execution_count": 6,
   "metadata": {},
   "outputs": [
    {
     "data": {
      "text/plain": [
       "-575.8093376841421"
      ]
     },
     "execution_count": 6,
     "metadata": {},
     "output_type": "execute_result"
    }
   ],
   "source": [
    "n_samples = ymasks.shape[1]\n",
    "n_cuts = ymasks.shape[0] - 1\n",
    "# TODO: xb can \"explode\" out of normal cdf bounds\n",
    "#       eg. values above 8 and below -8 have cdf of 0 and 1 \n",
    "#       regardless of cutoff point\n",
    "xb = X @ betas[n_cuts:]\n",
    "# ensure cutpoints remain ordered\n",
    "# TODO: This can be done by reparametrizing the cutpoints...\n",
    "cuts = np.sort(betas[:n_cuts])\n",
    "# cdf up to cutpoints\n",
    "cdf_areas = [norm.cdf(ct - xb) for ct in cuts]\n",
    "# last cdf area is from last cutpoint on\n",
    "cdf_areas.append(cdf_areas[-1])\n",
    "cdf_areas = np.array(cdf_areas)\n",
    "# pdf areas between cutpoints = cdf[i] - cdf[i-1]\n",
    "pdf_areas = np.empty_like(ymasks, dtype='float')\n",
    "# first is cdf[cut_0] - 0\n",
    "pdf_areas[0] = cdf_areas[0]\n",
    "# last is 1 - cdf[last_cut]\n",
    "pdf_areas[-1] = 1 - cdf_areas[-1]\n",
    "# middle cuts are cdf area between each\n",
    "for i in range(1, n_cuts):\n",
    "    pdf_areas[i] = cdf_areas[i] - cdf_areas[i-1]\n",
    "res = np.zeros(n_samples)\n",
    "for i in range(len(ymasks)):\n",
    "    res += (ymasks[i] * pdf_areas[i])\n",
    "res = np.sum(np.log(res))\n",
    "res"
   ]
  },
  {
   "cell_type": "code",
   "execution_count": null,
   "metadata": {},
   "outputs": [],
   "source": []
  },
  {
   "cell_type": "code",
   "execution_count": null,
   "metadata": {},
   "outputs": [],
   "source": []
  },
  {
   "cell_type": "code",
   "execution_count": null,
   "metadata": {},
   "outputs": [],
   "source": []
  },
  {
   "cell_type": "code",
   "execution_count": null,
   "metadata": {},
   "outputs": [],
   "source": []
  },
  {
   "cell_type": "code",
   "execution_count": null,
   "metadata": {},
   "outputs": [],
   "source": []
  },
  {
   "cell_type": "code",
   "execution_count": 7,
   "metadata": {},
   "outputs": [
    {
     "ename": "ValueError",
     "evalue": "",
     "output_type": "error",
     "traceback": [
      "\u001b[1;31m---------------------------------------------------------------------------\u001b[0m",
      "\u001b[1;31mValueError\u001b[0m                                Traceback (most recent call last)",
      "\u001b[1;32m<ipython-input-7-4954757c312d>\u001b[0m in \u001b[0;36m<module>\u001b[1;34m\u001b[0m\n\u001b[1;32m----> 1\u001b[1;33m \u001b[1;32mraise\u001b[0m \u001b[0mValueError\u001b[0m\u001b[1;33m(\u001b[0m\u001b[1;33m)\u001b[0m\u001b[1;33m\u001b[0m\u001b[1;33m\u001b[0m\u001b[0m\n\u001b[0m",
      "\u001b[1;31mValueError\u001b[0m: "
     ]
    }
   ],
   "source": [
    "raise ValueError()"
   ]
  },
  {
   "cell_type": "code",
   "execution_count": null,
   "metadata": {},
   "outputs": [],
   "source": [
    "dft = pd.read_csv(\"cache.csv\")\n",
    "X = dft.drop('rating', 1)\n",
    "y = dft.rating\n",
    "\n",
    "opr = OrderedProbitRanker(method='L-BFGS-B', use_grad=False)\n",
    "opr.fit(X, y)\n",
    "\n",
    "ymasks = np.array([np.array(y == c_) for c_ in opr.classes_])\n",
    "betas = np.concatenate([opr.cuts_, opr.coef_])\n",
    "\n",
    "print(opr._ordered_probit_loss_and_grad(betas, ymasks, X))\n",
    "print(opr._orderedProbitLogLike(betas, ymasks, X))\n",
    "print(opr.score(X, y))"
   ]
  },
  {
   "cell_type": "code",
   "execution_count": null,
   "metadata": {},
   "outputs": [],
   "source": []
  },
  {
   "cell_type": "code",
   "execution_count": null,
   "metadata": {},
   "outputs": [],
   "source": []
  },
  {
   "cell_type": "code",
   "execution_count": null,
   "metadata": {},
   "outputs": [],
   "source": []
  },
  {
   "cell_type": "code",
   "execution_count": null,
   "metadata": {},
   "outputs": [],
   "source": [
    "raise ValueError()"
   ]
  },
  {
   "cell_type": "code",
   "execution_count": null,
   "metadata": {},
   "outputs": [],
   "source": []
  },
  {
   "cell_type": "markdown",
   "metadata": {},
   "source": [
    "# Training prepro"
   ]
  },
  {
   "cell_type": "code",
   "execution_count": 8,
   "metadata": {
    "scrolled": true
   },
   "outputs": [
    {
     "data": {
      "text/html": [
       "<div>\n",
       "<style scoped>\n",
       "    .dataframe tbody tr th:only-of-type {\n",
       "        vertical-align: middle;\n",
       "    }\n",
       "\n",
       "    .dataframe tbody tr th {\n",
       "        vertical-align: top;\n",
       "    }\n",
       "\n",
       "    .dataframe thead th {\n",
       "        text-align: right;\n",
       "    }\n",
       "</style>\n",
       "<table border=\"1\" class=\"dataframe\">\n",
       "  <thead>\n",
       "    <tr style=\"text-align: right;\">\n",
       "      <th></th>\n",
       "      <th>app_name</th>\n",
       "      <th>title</th>\n",
       "      <th>version</th>\n",
       "      <th>rating</th>\n",
       "      <th>review</th>\n",
       "      <th>vote_count</th>\n",
       "    </tr>\n",
       "  </thead>\n",
       "  <tbody>\n",
       "    <tr>\n",
       "      <th>0</th>\n",
       "      <td>Tomb of the Mask</td>\n",
       "      <td>Overall fun game...but</td>\n",
       "      <td>1.6</td>\n",
       "      <td>2</td>\n",
       "      <td>ENOUGH of the ads. I know the creator wants to...</td>\n",
       "      <td>0.0</td>\n",
       "    </tr>\n",
       "    <tr>\n",
       "      <th>1</th>\n",
       "      <td>Tomb of the Mask</td>\n",
       "      <td>Would be good if not for the ads</td>\n",
       "      <td>1.6</td>\n",
       "      <td>1</td>\n",
       "      <td>Everything you do requires an ad, it’s really ...</td>\n",
       "      <td>0.0</td>\n",
       "    </tr>\n",
       "    <tr>\n",
       "      <th>2</th>\n",
       "      <td>Tomb of the Mask</td>\n",
       "      <td>AMAZING</td>\n",
       "      <td>1.6</td>\n",
       "      <td>5</td>\n",
       "      <td>This game is so indicting and I love it</td>\n",
       "      <td>0.0</td>\n",
       "    </tr>\n",
       "    <tr>\n",
       "      <th>3</th>\n",
       "      <td>Tomb of the Mask</td>\n",
       "      <td>So many ads</td>\n",
       "      <td>1.6</td>\n",
       "      <td>4</td>\n",
       "      <td>The game itself is really fun but you go throu...</td>\n",
       "      <td>0.0</td>\n",
       "    </tr>\n",
       "    <tr>\n",
       "      <th>4</th>\n",
       "      <td>Tomb of the Mask</td>\n",
       "      <td>Terrible app</td>\n",
       "      <td>1.6</td>\n",
       "      <td>1</td>\n",
       "      <td>This app has a cool game in it. However the ap...</td>\n",
       "      <td>0.0</td>\n",
       "    </tr>\n",
       "  </tbody>\n",
       "</table>\n",
       "</div>"
      ],
      "text/plain": [
       "           app_name                             title version  rating  \\\n",
       "0  Tomb of the Mask            Overall fun game...but     1.6       2   \n",
       "1  Tomb of the Mask  Would be good if not for the ads     1.6       1   \n",
       "2  Tomb of the Mask                           AMAZING     1.6       5   \n",
       "3  Tomb of the Mask                       So many ads     1.6       4   \n",
       "4  Tomb of the Mask                      Terrible app     1.6       1   \n",
       "\n",
       "                                              review  vote_count  \n",
       "0  ENOUGH of the ads. I know the creator wants to...         0.0  \n",
       "1  Everything you do requires an ad, it’s really ...         0.0  \n",
       "2            This game is so indicting and I love it         0.0  \n",
       "3  The game itself is really fun but you go throu...         0.0  \n",
       "4  This app has a cool game in it. However the ap...         0.0  "
      ]
     },
     "execution_count": 8,
     "metadata": {},
     "output_type": "execute_result"
    }
   ],
   "source": [
    "df = pd.read_csv(\"app_reviews.csv\")\n",
    "df.rating = df.rating.astype(int)\n",
    "df.head(5)"
   ]
  },
  {
   "cell_type": "code",
   "execution_count": 9,
   "metadata": {
    "scrolled": true
   },
   "outputs": [
    {
     "name": "stderr",
     "output_type": "stream",
     "text": [
      "E:\\Ordinal-master\\examples\\docembedding\\embedding.py:275: FutureWarning: Using a non-tuple sequence for multidimensional indexing is deprecated; use `arr[tuple(seq)]` instead of `arr[seq]`. In the future this will be interpreted as an array index, `arr[np.array(seq)]`, which will result either in an error or a different result.\n",
      "  sentenceWords = sentenceWords[[notOOVindices]]\n",
      "E:\\Ordinal-master\\examples\\docembedding\\embedding.py:278: FutureWarning: Using a non-tuple sequence for multidimensional indexing is deprecated; use `arr[tuple(seq)]` instead of `arr[seq]`. In the future this will be interpreted as an array index, `arr[np.array(seq)]`, which will result either in an error or a different result.\n",
      "  wordWeights = wordWeights[[notOOVindices]]\n"
     ]
    },
    {
     "data": {
      "text/html": [
       "<div>\n",
       "<style scoped>\n",
       "    .dataframe tbody tr th:only-of-type {\n",
       "        vertical-align: middle;\n",
       "    }\n",
       "\n",
       "    .dataframe tbody tr th {\n",
       "        vertical-align: top;\n",
       "    }\n",
       "\n",
       "    .dataframe thead th {\n",
       "        text-align: right;\n",
       "    }\n",
       "</style>\n",
       "<table border=\"1\" class=\"dataframe\">\n",
       "  <thead>\n",
       "    <tr style=\"text-align: right;\">\n",
       "      <th></th>\n",
       "      <th>rating</th>\n",
       "      <th>Google Maps - GPS Navigation</th>\n",
       "      <th>Google Maps - Transit &amp; Food</th>\n",
       "      <th>Hello Stars</th>\n",
       "      <th>Messenger</th>\n",
       "      <th>Tomb of the Mask</th>\n",
       "      <th>Ultra Sharp</th>\n",
       "      <th>nan</th>\n",
       "      <th>title0</th>\n",
       "      <th>title1</th>\n",
       "      <th>...</th>\n",
       "      <th>review290</th>\n",
       "      <th>review291</th>\n",
       "      <th>review292</th>\n",
       "      <th>review293</th>\n",
       "      <th>review294</th>\n",
       "      <th>review295</th>\n",
       "      <th>review296</th>\n",
       "      <th>review297</th>\n",
       "      <th>review298</th>\n",
       "      <th>review299</th>\n",
       "    </tr>\n",
       "  </thead>\n",
       "  <tbody>\n",
       "    <tr>\n",
       "      <th>0</th>\n",
       "      <td>2</td>\n",
       "      <td>0</td>\n",
       "      <td>0</td>\n",
       "      <td>0</td>\n",
       "      <td>0</td>\n",
       "      <td>1</td>\n",
       "      <td>0</td>\n",
       "      <td>0</td>\n",
       "      <td>0.008337</td>\n",
       "      <td>0.359944</td>\n",
       "      <td>...</td>\n",
       "      <td>0.011253</td>\n",
       "      <td>-0.144465</td>\n",
       "      <td>-0.039978</td>\n",
       "      <td>0.146787</td>\n",
       "      <td>0.108508</td>\n",
       "      <td>-0.151146</td>\n",
       "      <td>0.080810</td>\n",
       "      <td>-0.069745</td>\n",
       "      <td>-0.002517</td>\n",
       "      <td>-0.003518</td>\n",
       "    </tr>\n",
       "    <tr>\n",
       "      <th>1</th>\n",
       "      <td>1</td>\n",
       "      <td>0</td>\n",
       "      <td>0</td>\n",
       "      <td>0</td>\n",
       "      <td>0</td>\n",
       "      <td>1</td>\n",
       "      <td>0</td>\n",
       "      <td>0</td>\n",
       "      <td>-0.146053</td>\n",
       "      <td>0.298234</td>\n",
       "      <td>...</td>\n",
       "      <td>0.024687</td>\n",
       "      <td>-0.224383</td>\n",
       "      <td>-0.130395</td>\n",
       "      <td>0.051382</td>\n",
       "      <td>0.121735</td>\n",
       "      <td>0.026025</td>\n",
       "      <td>0.077560</td>\n",
       "      <td>-0.115350</td>\n",
       "      <td>0.008827</td>\n",
       "      <td>-0.006115</td>\n",
       "    </tr>\n",
       "    <tr>\n",
       "      <th>2</th>\n",
       "      <td>5</td>\n",
       "      <td>0</td>\n",
       "      <td>0</td>\n",
       "      <td>0</td>\n",
       "      <td>0</td>\n",
       "      <td>1</td>\n",
       "      <td>0</td>\n",
       "      <td>0</td>\n",
       "      <td>0.149990</td>\n",
       "      <td>0.053597</td>\n",
       "      <td>...</td>\n",
       "      <td>-0.153915</td>\n",
       "      <td>-0.110484</td>\n",
       "      <td>-0.303880</td>\n",
       "      <td>0.008504</td>\n",
       "      <td>0.138842</td>\n",
       "      <td>-0.395003</td>\n",
       "      <td>0.191106</td>\n",
       "      <td>-0.088626</td>\n",
       "      <td>0.061870</td>\n",
       "      <td>0.016231</td>\n",
       "    </tr>\n",
       "  </tbody>\n",
       "</table>\n",
       "<p>3 rows × 608 columns</p>\n",
       "</div>"
      ],
      "text/plain": [
       "   rating  Google Maps - GPS Navigation  Google Maps - Transit & Food  \\\n",
       "0       2                             0                             0   \n",
       "1       1                             0                             0   \n",
       "2       5                             0                             0   \n",
       "\n",
       "   Hello Stars  Messenger  Tomb of the Mask  Ultra Sharp  NaN    title0  \\\n",
       "0            0          0                 1            0    0  0.008337   \n",
       "1            0          0                 1            0    0 -0.146053   \n",
       "2            0          0                 1            0    0  0.149990   \n",
       "\n",
       "     title1    ...      review290  review291  review292  review293  review294  \\\n",
       "0  0.359944    ...       0.011253  -0.144465  -0.039978   0.146787   0.108508   \n",
       "1  0.298234    ...       0.024687  -0.224383  -0.130395   0.051382   0.121735   \n",
       "2  0.053597    ...      -0.153915  -0.110484  -0.303880   0.008504   0.138842   \n",
       "\n",
       "   review295  review296  review297  review298  review299  \n",
       "0  -0.151146   0.080810  -0.069745  -0.002517  -0.003518  \n",
       "1   0.026025   0.077560  -0.115350   0.008827  -0.006115  \n",
       "2  -0.395003   0.191106  -0.088626   0.061870   0.016231  \n",
       "\n",
       "[3 rows x 608 columns]"
      ]
     },
     "execution_count": 9,
     "metadata": {},
     "output_type": "execute_result"
    }
   ],
   "source": [
    "model = model_api.load(\"glove-wiki-gigaword-300\")\n",
    "\n",
    "dft = df.join(pd.get_dummies(df.app_name, drop_first=True, dummy_na=True))\n",
    "\n",
    "# Add embedding components\n",
    "for col in ['title', 'review']:\n",
    "    tokens = docembedding.stringprocessing.tokenize(dft[col], lower=True, split=True)\n",
    "    weights = docembedding.embedding.getWordWeights(tokens, \"tf-idf\")\n",
    "    embeds = docembedding.embedding.sentenceEmbedding(tokens, model, weights)\n",
    "    embeds = pd.DataFrame(embeds)\n",
    "    embeds.columns = [col + str(colnum) for colnum in embeds.columns]\n",
    "    dft = dft.join(embeds)\n",
    "dft = dft.drop(['version', 'vote_count', 'review', 'title', 'app_name'], 1)\n",
    "dft.head(3)"
   ]
  },
  {
   "cell_type": "code",
   "execution_count": 10,
   "metadata": {},
   "outputs": [],
   "source": [
    "X = dft.drop('rating', 1)\n",
    "y = dft.rating"
   ]
  },
  {
   "cell_type": "code",
   "execution_count": 11,
   "metadata": {},
   "outputs": [],
   "source": [
    "def fitscore(model, X, y):\n",
    "    start = time.time()\n",
    "    model.fit(X, y)\n",
    "    pred_val = model.predict(X)\n",
    "    print(\"time: \", time.time() - start)\n",
    "    print(\"score: \", metrics.accuracy_score(pred_val, y))\n",
    "    print(\"mse: \", metrics.mean_squared_error(pred_val, y))\n",
    "    print(\"mae: \", metrics.mean_absolute_error(pred_val, y))\n",
    "    pd.Series(pred_val).hist(bins=5)"
   ]
  },
  {
   "cell_type": "code",
   "execution_count": 12,
   "metadata": {},
   "outputs": [
    {
     "data": {
      "text/plain": [
       "<matplotlib.axes._subplots.AxesSubplot at 0x1d501c48908>"
      ]
     },
     "execution_count": 12,
     "metadata": {},
     "output_type": "execute_result"
    }
   ],
   "source": [
    "y.hist(bins=5)"
   ]
  },
  {
   "cell_type": "code",
   "execution_count": 13,
   "metadata": {},
   "outputs": [
    {
     "name": "stdout",
     "output_type": "stream",
     "text": [
      "time:  13.834228515625\n",
      "score:  0.6763732065540369\n",
      "mse:  1.4724509720689363\n",
      "mae:  0.6029374310213091\n"
     ]
    },
    {
     "data": {
      "image/png": "[encoded data removed]",
      "text/plain": [
       "<Figure size 432x288 with 1 Axes>"
      ]
     },
     "metadata": {
      "needs_background": "light"
     },
     "output_type": "display_data"
    }
   ],
   "source": [
    "lr = sklearn.linear_model.LogisticRegression(C=9999, solver='lbfgs', multi_class='auto', max_iter=10000)\n",
    "fitscore(lr, X, y)"
   ]
  },
  {
   "cell_type": "code",
   "execution_count": 14,
   "metadata": {},
   "outputs": [
    {
     "name": "stdout",
     "output_type": "stream",
     "text": [
      "time:  6.647398948669434\n",
      "score:  0.5492826216147381\n",
      "mse:  1.2074879021988285\n",
      "mae:  0.6604125986925885\n"
     ]
    },
    {
     "data": {
      "image/png": "[encoded data removed]",
      "text/plain": [
       "<Figure size 432x288 with 1 Axes>"
      ]
     },
     "metadata": {
      "needs_background": "light"
     },
     "output_type": "display_data"
    }
   ],
   "source": [
    "lat = OrderedLogitRanker(alpha=1, verbose=1, variant='at')\n",
    "fitscore(lat, X, y)"
   ]
  },
  {
   "cell_type": "code",
   "execution_count": 15,
   "metadata": {},
   "outputs": [
    {
     "name": "stdout",
     "output_type": "stream",
     "text": [
      "time:  4.512451887130737\n",
      "score:  0.6111724255030139\n",
      "mse:  2.1597758723151372\n",
      "mae:  0.809576364716869\n"
     ]
    },
    {
     "data": {
      "image/png": "[encoded data removed]",
      "text/plain": [
       "<Figure size 432x288 with 1 Axes>"
      ]
     },
     "metadata": {
      "needs_background": "light"
     },
     "output_type": "display_data"
    }
   ],
   "source": [
    "lit = OrderedLogitRanker(alpha=1, verbose=1, variant='it')\n",
    "fitscore(lit, X, y)"
   ]
  },
  {
   "cell_type": "code",
   "execution_count": 16,
   "metadata": {},
   "outputs": [
    {
     "name": "stdout",
     "output_type": "stream",
     "text": [
      "time:  7.55546236038208\n",
      "score:  0.45148145003820356\n",
      "mse:  1.1612191187706935\n",
      "mae:  0.7313014687155106\n"
     ]
    },
    {
     "data": {
      "image/png": "[encoded data removed]",
      "text/plain": [
       "<Figure size 432x288 with 1 Axes>"
      ]
     },
     "metadata": {
      "needs_background": "light"
     },
     "output_type": "display_data"
    }
   ],
   "source": [
    "lse = OrderedLogitRanker(alpha=1, verbose=1,  variant='se')\n",
    "fitscore(lse, X, y)"
   ]
  },
  {
   "cell_type": "code",
   "execution_count": 17,
   "metadata": {
    "scrolled": false
   },
   "outputs": [
    {
     "name": "stderr",
     "output_type": "stream",
     "text": [
      "E:\\Ordinal-master\\ordinal\\probit.py:251: RuntimeWarning: \n",
      "Ordered Probit Optimization did not succeed\n",
      "Termination Status: 1\n",
      "Termination Message: b'STOP: TOTAL NO. of f AND g EVALUATIONS EXCEEDS LIMIT'\n",
      "function Value:12309.140709981799\n",
      "Iterations:217\n",
      "  RuntimeWarning)\n"
     ]
    },
    {
     "name": "stdout",
     "output_type": "stream",
     "text": [
      "time:  685.8382048606873\n",
      "score:  0.6139740215638\n",
      "mse:  2.057220477120299\n",
      "mae:  0.7839375159181594\n"
     ]
    },
    {
     "data": {
      "image/png": "[encoded data removed]",
      "text/plain": [
       "<Figure size 432x288 with 1 Axes>"
      ]
     },
     "metadata": {
      "needs_background": "light"
     },
     "output_type": "display_data"
    }
   ],
   "source": [
    "opr = OrderedProbitRanker(method='L-BFGS-B', use_grad=False)\n",
    "fitscore(opr, X, y)"
   ]
  },
  {
   "cell_type": "markdown",
   "metadata": {},
   "source": [
    "# TESTING"
   ]
  },
  {
   "cell_type": "code",
   "execution_count": 18,
   "metadata": {
    "scrolled": true
   },
   "outputs": [
    {
     "name": "stderr",
     "output_type": "stream",
     "text": [
      "E:\\Ordinal-master\\ordinal\\probit.py:251: RuntimeWarning: \n",
      "Ordered Probit Optimization did not succeed\n",
      "Termination Status: 1\n",
      "Termination Message: b'STOP: TOTAL NO. of f AND g EVALUATIONS EXCEEDS LIMIT'\n",
      "function Value:12309.140709981799\n",
      "Iterations:217\n",
      "  RuntimeWarning)\n"
     ]
    },
    {
     "name": "stdout",
     "output_type": "stream",
     "text": [
      "time:  703.3344194889069\n",
      "score:  0.6139740215638\n",
      "cuts:  [-0.72254795 -0.20671248  0.25971425  0.81529927]\n"
     ]
    }
   ],
   "source": [
    "opr = OrderedProbitRanker(method='L-BFGS-B', use_grad=False)\n",
    "start = time.time()\n",
    "opr.fit(X, y)\n",
    "print(\"time: \", time.time() - start)\n",
    "print(\"score: \", opr.score(X, y))\n",
    "print(\"cuts: \", opr.cuts_)"
   ]
  },
  {
   "cell_type": "code",
   "execution_count": null,
   "metadata": {},
   "outputs": [],
   "source": [
    "n_cuts = len(opr.cuts_)\n",
    "n_samples = len(X)\n",
    "betas = opr.coef_\n",
    "\n",
    "xb = X @ opr.coef_\n",
    "ymasks = np.array([np.array(y == c_) for c_ in opr.classes_])\n",
    "cdf_areas = [norm.cdf(ct - xb) for ct in opr.cuts_]\n",
    "cdf_areas.append(cdf_areas[-1])\n",
    "cdf_areas = np.array(cdf_areas)\n",
    "pdf_areas = np.zeros_like(ymasks, dtype='float')\n",
    "pdf_areas[0] = cdf_areas[0]\n",
    "pdf_areas[-1] = 1 - cdf_areas[-1]\n",
    "for i in range(1, n_cuts):\n",
    "    pdf_areas[i] = cdf_areas[i] - cdf_areas[i-1]\n",
    "res = np.zeros(n_samples)\n",
    "for i in range(len(ymasks)):\n",
    "    res += (ymasks[i] * pdf_areas[i])"
   ]
  },
  {
   "cell_type": "code",
   "execution_count": null,
   "metadata": {},
   "outputs": [],
   "source": [
    "out = pd.Series(res)\n",
    "ymk = pd.DataFrame(ymasks.T)\n",
    "pdf = pd.DataFrame(pdf_areas.T)\n",
    "cdf = pd.DataFrame(cdf_areas.T)\n",
    "bad = (out == 0)"
   ]
  },
  {
   "cell_type": "code",
   "execution_count": null,
   "metadata": {},
   "outputs": [],
   "source": []
  }
 ],
 "metadata": {
  "kernelspec": {
   "display_name": "Python 3",
   "language": "python",
   "name": "python3"
  },
  "language_info": {
   "codemirror_mode": {
    "name": "ipython",
    "version": 3
   },
   "file_extension": ".py",
   "mimetype": "text/x-python",
   "name": "python",
   "nbconvert_exporter": "python",
   "pygments_lexer": "ipython3",
   "version": "3.7.1"
  }
 },
 "nbformat": 4,
 "nbformat_minor": 2
}
