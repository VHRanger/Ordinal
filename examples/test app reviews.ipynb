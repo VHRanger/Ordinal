{
 "cells": [
  {
   "cell_type": "code",
   "execution_count": 1,
   "metadata": {},
   "outputs": [],
   "source": [
    "# Pick up package from parent folder\n",
    "import os,sys,inspect\n",
    "currentdir = os.path.dirname(os.path.abspath(\n",
    "    inspect.getfile(inspect.currentframe())))\n",
    "parentdir = os.path.dirname(currentdir)\n",
    "sys.path.insert(0,parentdir)"
   ]
  },
  {
   "cell_type": "code",
   "execution_count": 2,
   "metadata": {},
   "outputs": [],
   "source": [
    "import numpy as np\n",
    "import pandas as pd\n",
    "from scipy.stats import norm\n",
    "import sklearn\n",
    "from sklearn import metrics\n",
    "from sklearn.datasets import load_boston, load_diabetes\n",
    "from sklearn.preprocessing import KBinsDiscretizer\n",
    "from sklearn.utils.multiclass import unique_labels\n",
    "import time\n",
    "\n",
    "import gensim.downloader as model_api\n",
    "\n",
    "import ordinal\n",
    "from ordinal import OrderedProbitRanker\n",
    "from ordinal import OrderedLogitRanker\n",
    "\n",
    "import AppReviews # generate review data from app store\n",
    "import docembedding"
   ]
  },
  {
   "cell_type": "markdown",
   "metadata": {},
   "source": [
    "# Training prepro"
   ]
  },
  {
   "cell_type": "code",
   "execution_count": 3,
   "metadata": {
    "scrolled": true
   },
   "outputs": [
    {
     "data": {
      "text/html": [
       "<div>\n",
       "<style scoped>\n",
       "    .dataframe tbody tr th:only-of-type {\n",
       "        vertical-align: middle;\n",
       "    }\n",
       "\n",
       "    .dataframe tbody tr th {\n",
       "        vertical-align: top;\n",
       "    }\n",
       "\n",
       "    .dataframe thead th {\n",
       "        text-align: right;\n",
       "    }\n",
       "</style>\n",
       "<table border=\"1\" class=\"dataframe\">\n",
       "  <thead>\n",
       "    <tr style=\"text-align: right;\">\n",
       "      <th></th>\n",
       "      <th>app_name</th>\n",
       "      <th>title</th>\n",
       "      <th>version</th>\n",
       "      <th>rating</th>\n",
       "      <th>review</th>\n",
       "      <th>vote_count</th>\n",
       "    </tr>\n",
       "  </thead>\n",
       "  <tbody>\n",
       "    <tr>\n",
       "      <th>0</th>\n",
       "      <td>Tomb of the Mask</td>\n",
       "      <td>Overall fun game...but</td>\n",
       "      <td>1.6</td>\n",
       "      <td>2</td>\n",
       "      <td>ENOUGH of the ads. I know the creator wants to...</td>\n",
       "      <td>0.0</td>\n",
       "    </tr>\n",
       "    <tr>\n",
       "      <th>1</th>\n",
       "      <td>Tomb of the Mask</td>\n",
       "      <td>Would be good if not for the ads</td>\n",
       "      <td>1.6</td>\n",
       "      <td>1</td>\n",
       "      <td>Everything you do requires an ad, it’s really ...</td>\n",
       "      <td>0.0</td>\n",
       "    </tr>\n",
       "    <tr>\n",
       "      <th>2</th>\n",
       "      <td>Tomb of the Mask</td>\n",
       "      <td>AMAZING</td>\n",
       "      <td>1.6</td>\n",
       "      <td>5</td>\n",
       "      <td>This game is so indicting and I love it</td>\n",
       "      <td>0.0</td>\n",
       "    </tr>\n",
       "    <tr>\n",
       "      <th>3</th>\n",
       "      <td>Tomb of the Mask</td>\n",
       "      <td>So many ads</td>\n",
       "      <td>1.6</td>\n",
       "      <td>4</td>\n",
       "      <td>The game itself is really fun but you go throu...</td>\n",
       "      <td>0.0</td>\n",
       "    </tr>\n",
       "    <tr>\n",
       "      <th>4</th>\n",
       "      <td>Tomb of the Mask</td>\n",
       "      <td>Terrible app</td>\n",
       "      <td>1.6</td>\n",
       "      <td>1</td>\n",
       "      <td>This app has a cool game in it. However the ap...</td>\n",
       "      <td>0.0</td>\n",
       "    </tr>\n",
       "  </tbody>\n",
       "</table>\n",
       "</div>"
      ],
      "text/plain": [
       "           app_name                             title version  rating  \\\n",
       "0  Tomb of the Mask            Overall fun game...but     1.6       2   \n",
       "1  Tomb of the Mask  Would be good if not for the ads     1.6       1   \n",
       "2  Tomb of the Mask                           AMAZING     1.6       5   \n",
       "3  Tomb of the Mask                       So many ads     1.6       4   \n",
       "4  Tomb of the Mask                      Terrible app     1.6       1   \n",
       "\n",
       "                                              review  vote_count  \n",
       "0  ENOUGH of the ads. I know the creator wants to...         0.0  \n",
       "1  Everything you do requires an ad, it’s really ...         0.0  \n",
       "2            This game is so indicting and I love it         0.0  \n",
       "3  The game itself is really fun but you go throu...         0.0  \n",
       "4  This app has a cool game in it. However the ap...         0.0  "
      ]
     },
     "execution_count": 3,
     "metadata": {},
     "output_type": "execute_result"
    }
   ],
   "source": [
    "df = pd.read_csv(\"app_reviews.csv\")\n",
    "df.rating = df.rating.astype(int)\n",
    "df.head(5)"
   ]
  },
  {
   "cell_type": "code",
   "execution_count": 4,
   "metadata": {
    "scrolled": true
   },
   "outputs": [
    {
     "data": {
      "text/html": [
       "<div>\n",
       "<style scoped>\n",
       "    .dataframe tbody tr th:only-of-type {\n",
       "        vertical-align: middle;\n",
       "    }\n",
       "\n",
       "    .dataframe tbody tr th {\n",
       "        vertical-align: top;\n",
       "    }\n",
       "\n",
       "    .dataframe thead th {\n",
       "        text-align: right;\n",
       "    }\n",
       "</style>\n",
       "<table border=\"1\" class=\"dataframe\">\n",
       "  <thead>\n",
       "    <tr style=\"text-align: right;\">\n",
       "      <th></th>\n",
       "      <th>rating</th>\n",
       "      <th>Google Maps - GPS Navigation</th>\n",
       "      <th>Google Maps - Transit &amp; Food</th>\n",
       "      <th>Hello Stars</th>\n",
       "      <th>Messenger</th>\n",
       "      <th>Tomb of the Mask</th>\n",
       "      <th>Ultra Sharp</th>\n",
       "      <th>nan</th>\n",
       "      <th>title0</th>\n",
       "      <th>title1</th>\n",
       "      <th>...</th>\n",
       "      <th>review290</th>\n",
       "      <th>review291</th>\n",
       "      <th>review292</th>\n",
       "      <th>review293</th>\n",
       "      <th>review294</th>\n",
       "      <th>review295</th>\n",
       "      <th>review296</th>\n",
       "      <th>review297</th>\n",
       "      <th>review298</th>\n",
       "      <th>review299</th>\n",
       "    </tr>\n",
       "  </thead>\n",
       "  <tbody>\n",
       "    <tr>\n",
       "      <th>0</th>\n",
       "      <td>2</td>\n",
       "      <td>0</td>\n",
       "      <td>0</td>\n",
       "      <td>0</td>\n",
       "      <td>0</td>\n",
       "      <td>1</td>\n",
       "      <td>0</td>\n",
       "      <td>0</td>\n",
       "      <td>0.008337</td>\n",
       "      <td>0.359944</td>\n",
       "      <td>...</td>\n",
       "      <td>0.011253</td>\n",
       "      <td>-0.144465</td>\n",
       "      <td>-0.039978</td>\n",
       "      <td>0.146787</td>\n",
       "      <td>0.108508</td>\n",
       "      <td>-0.151146</td>\n",
       "      <td>0.080810</td>\n",
       "      <td>-0.069745</td>\n",
       "      <td>-0.002517</td>\n",
       "      <td>-0.003518</td>\n",
       "    </tr>\n",
       "    <tr>\n",
       "      <th>1</th>\n",
       "      <td>1</td>\n",
       "      <td>0</td>\n",
       "      <td>0</td>\n",
       "      <td>0</td>\n",
       "      <td>0</td>\n",
       "      <td>1</td>\n",
       "      <td>0</td>\n",
       "      <td>0</td>\n",
       "      <td>-0.146053</td>\n",
       "      <td>0.298234</td>\n",
       "      <td>...</td>\n",
       "      <td>0.024687</td>\n",
       "      <td>-0.224383</td>\n",
       "      <td>-0.130395</td>\n",
       "      <td>0.051382</td>\n",
       "      <td>0.121735</td>\n",
       "      <td>0.026025</td>\n",
       "      <td>0.077560</td>\n",
       "      <td>-0.115350</td>\n",
       "      <td>0.008827</td>\n",
       "      <td>-0.006115</td>\n",
       "    </tr>\n",
       "    <tr>\n",
       "      <th>2</th>\n",
       "      <td>5</td>\n",
       "      <td>0</td>\n",
       "      <td>0</td>\n",
       "      <td>0</td>\n",
       "      <td>0</td>\n",
       "      <td>1</td>\n",
       "      <td>0</td>\n",
       "      <td>0</td>\n",
       "      <td>0.149990</td>\n",
       "      <td>0.053597</td>\n",
       "      <td>...</td>\n",
       "      <td>-0.153915</td>\n",
       "      <td>-0.110484</td>\n",
       "      <td>-0.303880</td>\n",
       "      <td>0.008504</td>\n",
       "      <td>0.138842</td>\n",
       "      <td>-0.395003</td>\n",
       "      <td>0.191106</td>\n",
       "      <td>-0.088626</td>\n",
       "      <td>0.061870</td>\n",
       "      <td>0.016231</td>\n",
       "    </tr>\n",
       "  </tbody>\n",
       "</table>\n",
       "<p>3 rows × 608 columns</p>\n",
       "</div>"
      ],
      "text/plain": [
       "   rating  Google Maps - GPS Navigation  Google Maps - Transit & Food  \\\n",
       "0       2                             0                             0   \n",
       "1       1                             0                             0   \n",
       "2       5                             0                             0   \n",
       "\n",
       "   Hello Stars  Messenger  Tomb of the Mask  Ultra Sharp  NaN    title0  \\\n",
       "0            0          0                 1            0    0  0.008337   \n",
       "1            0          0                 1            0    0 -0.146053   \n",
       "2            0          0                 1            0    0  0.149990   \n",
       "\n",
       "     title1    ...      review290  review291  review292  review293  review294  \\\n",
       "0  0.359944    ...       0.011253  -0.144465  -0.039978   0.146787   0.108508   \n",
       "1  0.298234    ...       0.024687  -0.224383  -0.130395   0.051382   0.121735   \n",
       "2  0.053597    ...      -0.153915  -0.110484  -0.303880   0.008504   0.138842   \n",
       "\n",
       "   review295  review296  review297  review298  review299  \n",
       "0  -0.151146   0.080810  -0.069745  -0.002517  -0.003518  \n",
       "1   0.026025   0.077560  -0.115350   0.008827  -0.006115  \n",
       "2  -0.395003   0.191106  -0.088626   0.061870   0.016231  \n",
       "\n",
       "[3 rows x 608 columns]"
      ]
     },
     "execution_count": 4,
     "metadata": {},
     "output_type": "execute_result"
    }
   ],
   "source": [
    "model = model_api.load(\"glove-wiki-gigaword-300\")\n",
    "\n",
    "dft = df.join(pd.get_dummies(df.app_name, drop_first=True, dummy_na=True))\n",
    "\n",
    "# Add embedding components\n",
    "for col in ['title', 'review']:\n",
    "    tokens = docembedding.stringprocessing.tokenize(dft[col], lower=True, split=True)\n",
    "    weights = docembedding.embedding.getWordWeights(tokens, \"tf-idf\")\n",
    "    embeds = docembedding.embedding.sentenceEmbedding(tokens, model, weights)\n",
    "    embeds = pd.DataFrame(embeds)\n",
    "    embeds.columns = [col + str(colnum) for colnum in embeds.columns]\n",
    "    dft = dft.join(embeds)\n",
    "dft = dft.drop(['version', 'vote_count', 'review', 'title', 'app_name'], 1)\n",
    "dft.head(3)"
   ]
  },
  {
   "cell_type": "code",
   "execution_count": null,
   "metadata": {},
   "outputs": [],
   "source": [
    "X = dft.drop('rating', 1)\n",
    "y = dft.rating"
   ]
  },
  {
   "cell_type": "code",
   "execution_count": null,
   "metadata": {},
   "outputs": [],
   "source": [
    "def fitscore(model, X, y):\n",
    "    start = time.time()\n",
    "    model.fit(X, y)\n",
    "    pred_val = model.predict(X)\n",
    "    pred_proba = model.predict_proba(X)\n",
    "    print(\"time: \", time.time() - start)\n",
    "    print(\"score: \", metrics.accuracy_score(y, pred_val))\n",
    "    print(\"mse: \", metrics.mean_squared_error(y, pred_val))\n",
    "    print(\"mae: \", metrics.mean_absolute_error(y, pred_val))\n",
    "    pd.Series(pred_val).hist(bins=5)"
   ]
  },
  {
   "cell_type": "code",
   "execution_count": null,
   "metadata": {},
   "outputs": [
    {
     "data": {
      "text/plain": [
       "<matplotlib.axes._subplots.AxesSubplot at 0x18383da02b0>"
      ]
     },
     "execution_count": 7,
     "metadata": {},
     "output_type": "execute_result"
    }
   ],
   "source": [
    "y.hist(bins=5)"
   ]
  },
  {
   "cell_type": "code",
   "execution_count": null,
   "metadata": {},
   "outputs": [
    {
     "name": "stdout",
     "output_type": "stream",
     "text": [
      "time:  14.814236640930176\n",
      "score:  0.6763732065540369\n",
      "mse:  1.4724509720689363\n",
      "mae:  0.6029374310213091\n"
     ]
    },
    {
     "data": {
      "image/png": "[encoded data removed]",
      "text/plain": [
       "<Figure size 432x288 with 1 Axes>"
      ]
     },
     "metadata": {
      "needs_background": "light"
     },
     "output_type": "display_data"
    }
   ],
   "source": [
    "lr = sklearn.linear_model.LogisticRegression(C=9999, solver='lbfgs', multi_class='auto', max_iter=10000)\n",
    "fitscore(lr, X, y)"
   ]
  },
  {
   "cell_type": "code",
   "execution_count": null,
   "metadata": {},
   "outputs": [
    {
     "name": "stdout",
     "output_type": "stream",
     "text": [
      "time:  7.106756210327148\n",
      "score:  0.5492826216147381\n",
      "mse:  1.2074879021988285\n",
      "mae:  0.6604125986925885\n"
     ]
    },
    {
     "data": {
      "image/png": "[encoded data removed]",
      "text/plain": [
       "<Figure size 432x288 with 1 Axes>"
      ]
     },
     "metadata": {
      "needs_background": "light"
     },
     "output_type": "display_data"
    }
   ],
   "source": [
    "lat = OrderedLogitRanker(alpha=1, verbose=1, variant='at')\n",
    "fitscore(lat, X, y)"
   ]
  },
  {
   "cell_type": "code",
   "execution_count": null,
   "metadata": {},
   "outputs": [
    {
     "name": "stdout",
     "output_type": "stream",
     "text": [
      "time:  8.234502792358398\n",
      "score:  0.45148145003820356\n",
      "mse:  1.1612191187706935\n",
      "mae:  0.7313014687155106\n"
     ]
    },
    {
     "data": {
      "image/png": "[encoded data removed]",
      "text/plain": [
       "<Figure size 432x288 with 1 Axes>"
      ]
     },
     "metadata": {
      "needs_background": "light"
     },
     "output_type": "display_data"
    }
   ],
   "source": [
    "lse = OrderedLogitRanker(alpha=1, verbose=1,  variant='se')\n",
    "fitscore(lse, X, y)"
   ]
  },
  {
   "cell_type": "code",
   "execution_count": null,
   "metadata": {
    "scrolled": false
   },
   "outputs": [],
   "source": [
    "opr = OrderedProbitRanker(method='L-BFGS-B', use_grad=False)\n",
    "fitscore(opr, X, y)"
   ]
  },
  {
   "cell_type": "code",
   "execution_count": null,
   "metadata": {},
   "outputs": [],
   "source": []
  },
  {
   "cell_type": "code",
   "execution_count": null,
   "metadata": {},
   "outputs": [],
   "source": []
  },
  {
   "cell_type": "code",
   "execution_count": null,
   "metadata": {},
   "outputs": [],
   "source": []
  }
 ],
 "metadata": {
  "kernelspec": {
   "display_name": "Python 3",
   "language": "python",
   "name": "python3"
  },
  "language_info": {
   "codemirror_mode": {
    "name": "ipython",
    "version": 3
   },
   "file_extension": ".py",
   "mimetype": "text/x-python",
   "name": "python",
   "nbconvert_exporter": "python",
   "pygments_lexer": "ipython3",
   "version": "3.7.1"
  }
 },
 "nbformat": 4,
 "nbformat_minor": 2
}
