{
 "cells": [
  {
   "cell_type": "code",
   "execution_count": 1,
   "metadata": {},
   "outputs": [],
   "source": [
    "# Pick up package from parent folder\n",
    "import os,sys,inspect\n",
    "currentdir = os.path.dirname(os.path.abspath(\n",
    "    inspect.getfile(inspect.currentframe())))\n",
    "parentdir = os.path.dirname(currentdir)\n",
    "sys.path.insert(0,parentdir)"
   ]
  },
  {
   "cell_type": "code",
   "execution_count": 2,
   "metadata": {},
   "outputs": [],
   "source": [
    "import numpy as np\n",
    "import pandas as pd\n",
    "from scipy.stats import norm\n",
    "import sklearn\n",
    "from sklearn import metrics\n",
    "import time\n",
    "\n",
    "import ordinal\n",
    "from ordinal import OrderedProbitRanker\n",
    "from ordinal import OrderedLogitRanker"
   ]
  },
  {
   "cell_type": "code",
   "execution_count": 3,
   "metadata": {},
   "outputs": [],
   "source": [
    "def fitscore(model, X, y):\n",
    "    start = time.time()\n",
    "    model.fit(X, y)\n",
    "    pred_val = model.predict(X)\n",
    "    print(\"time: \", time.time() - start)\n",
    "    print(\"score: \", metrics.accuracy_score(pred_val, y))\n",
    "    print(\"mse: \", metrics.mean_squared_error(pred_val, y))\n",
    "    print(\"mae: \", metrics.mean_absolute_error(pred_val, y))\n",
    "    pd.Series(pred_val).hist(bins=N_CLASSES)"
   ]
  },
  {
   "cell_type": "markdown",
   "metadata": {},
   "source": [
    "# Boston prepro"
   ]
  },
  {
   "cell_type": "code",
   "execution_count": 4,
   "metadata": {},
   "outputs": [],
   "source": [
    "from sklearn.datasets import load_boston, load_diabetes, load_linnerud\n",
    "from sklearn.preprocessing import KBinsDiscretizer\n",
    "\n",
    "N_CLASSES = 6\n",
    "\n",
    "boston = load_boston()\n",
    "X = boston['data']\n",
    "y = boston['target']\n",
    "kbd = KBinsDiscretizer(n_bins=N_CLASSES, encode='ordinal', strategy='kmeans')\n",
    "y = kbd.fit_transform(y.reshape(-1, 1)).flatten().astype(np.int32)"
   ]
  },
  {
   "cell_type": "code",
   "execution_count": 5,
   "metadata": {},
   "outputs": [
    {
     "data": {
      "text/plain": [
       "<matplotlib.axes._subplots.AxesSubplot at 0x295c9f0a908>"
      ]
     },
     "execution_count": 5,
     "metadata": {},
     "output_type": "execute_result"
    }
   ],
   "source": [
    "pd.Series(y).hist(bins=N_CLASSES)"
   ]
  },
  {
   "cell_type": "code",
   "execution_count": 6,
   "metadata": {},
   "outputs": [
    {
     "name": "stdout",
     "output_type": "stream",
     "text": [
      "time:  2.2954821586608887\n",
      "score:  0.7193675889328063\n",
      "mse:  0.4525691699604743\n",
      "mae:  0.3300395256916996\n"
     ]
    },
    {
     "name": "stderr",
     "output_type": "stream",
     "text": [
      "C:\\Anaconda3\\lib\\site-packages\\sklearn\\linear_model\\logistic.py:758: ConvergenceWarning: lbfgs failed to converge. Increase the number of iterations.\n",
      "  \"of iterations.\", ConvergenceWarning)\n"
     ]
    },
    {
     "data": {
      "image/png": "[encoded data removed]",
      "text/plain": [
       "<Figure size 432x288 with 1 Axes>"
      ]
     },
     "metadata": {
      "needs_background": "light"
     },
     "output_type": "display_data"
    }
   ],
   "source": [
    "lr = sklearn.linear_model.LogisticRegression(C=9999, solver='lbfgs', multi_class='auto', max_iter=10000)\n",
    "fitscore(lr, X, y)"
   ]
  },
  {
   "cell_type": "code",
   "execution_count": 7,
   "metadata": {},
   "outputs": [
    {
     "name": "stdout",
     "output_type": "stream",
     "text": [
      "time:  3.4724714756011963\n",
      "score:  0.6600790513833992\n",
      "mse:  0.4624505928853755\n",
      "mae:  0.37549407114624506\n"
     ]
    },
    {
     "data": {
      "image/png": "[encoded data removed]",
      "text/plain": [
       "<Figure size 432x288 with 1 Axes>"
      ]
     },
     "metadata": {
      "needs_background": "light"
     },
     "output_type": "display_data"
    }
   ],
   "source": [
    "lat = OrderedLogitRanker(alpha=1, verbose=1, variant='at')\n",
    "fitscore(lat, X, y)"
   ]
  },
  {
   "cell_type": "code",
   "execution_count": 8,
   "metadata": {},
   "outputs": [
    {
     "name": "stdout",
     "output_type": "stream",
     "text": [
      "time:  2.9459104537963867\n",
      "score:  0.6719367588932806\n",
      "mse:  0.4624505928853755\n",
      "mae:  0.3675889328063241\n"
     ]
    },
    {
     "data": {
      "image/png": "[encoded data removed]",
      "text/plain": [
       "<Figure size 432x288 with 1 Axes>"
      ]
     },
     "metadata": {
      "needs_background": "light"
     },
     "output_type": "display_data"
    }
   ],
   "source": [
    "lit = OrderedLogitRanker(alpha=1, verbose=1, variant='it')\n",
    "fitscore(lit, X, y)"
   ]
  },
  {
   "cell_type": "code",
   "execution_count": 9,
   "metadata": {
    "scrolled": true
   },
   "outputs": [
    {
     "name": "stdout",
     "output_type": "stream",
     "text": [
      "time:  2.6344707012176514\n",
      "score:  0.6442687747035574\n",
      "mse:  0.4525691699604743\n",
      "mae:  0.38537549407114624\n"
     ]
    },
    {
     "data": {
      "image/png": "[encoded data removed]",
      "text/plain": [
       "<Figure size 432x288 with 1 Axes>"
      ]
     },
     "metadata": {
      "needs_background": "light"
     },
     "output_type": "display_data"
    }
   ],
   "source": [
    "lse = OrderedLogitRanker(alpha=1, verbose=1, variant='se')\n",
    "fitscore(lse, X, y)"
   ]
  },
  {
   "cell_type": "code",
   "execution_count": 23,
   "metadata": {
    "scrolled": true
   },
   "outputs": [
    {
     "name": "stderr",
     "output_type": "stream",
     "text": [
      "C:\\Anaconda3\\lib\\site-packages\\scipy\\optimize\\_minimize.py:518: RuntimeWarning: Method nelder-mead cannot handle constraints nor bounds.\n",
      "  RuntimeWarning)\n",
      "E:\\Ordinal-master\\ordinal\\probit.py:242: OptimizeWarning: Unknown solver options: maxfun\n",
      "  options={\"disp\":self.verbose, 'maxiter':50000, \"maxfun\":150000})\n"
     ]
    },
    {
     "name": "stdout",
     "output_type": "stream",
     "text": [
      "time:  3.5839500427246094\n",
      "score:  0.525691699604743\n",
      "mse:  1.0019762845849802\n",
      "mae:  0.6264822134387352\n"
     ]
    },
    {
     "data": {
      "image/png": "[encoded data removed]",
      "text/plain": [
       "<Figure size 432x288 with 1 Axes>"
      ]
     },
     "metadata": {
      "needs_background": "light"
     },
     "output_type": "display_data"
    }
   ],
   "source": [
    "opr = OrderedProbitRanker(method='nelder-mead', use_grad=False)\n",
    "fitscore(opr, X, y)"
   ]
  },
  {
   "cell_type": "markdown",
   "metadata": {},
   "source": [
    "# Diabetes Prepro"
   ]
  },
  {
   "cell_type": "code",
   "execution_count": 11,
   "metadata": {},
   "outputs": [],
   "source": [
    "diabetes = load_diabetes()\n",
    "Xd = diabetes['data']\n",
    "yd = diabetes['target']\n",
    "kbd = KBinsDiscretizer(n_bins=N_CLASSES, encode='ordinal', strategy='kmeans')\n",
    "yd = kbd.fit_transform(yd.reshape(-1, 1)).flatten().astype(np.int32)"
   ]
  },
  {
   "cell_type": "code",
   "execution_count": 12,
   "metadata": {},
   "outputs": [
    {
     "data": {
      "text/plain": [
       "<matplotlib.axes._subplots.AxesSubplot at 0x295ca653dd8>"
      ]
     },
     "execution_count": 12,
     "metadata": {},
     "output_type": "execute_result"
    },
    {
     "data": {
      "image/png": "[encoded data removed]",
      "text/plain": [
       "<Figure size 432x288 with 1 Axes>"
      ]
     },
     "metadata": {
      "needs_background": "light"
     },
     "output_type": "display_data"
    }
   ],
   "source": [
    "pd.Series(yd).hist(bins=N_CLASSES)"
   ]
  },
  {
   "cell_type": "code",
   "execution_count": 13,
   "metadata": {
    "scrolled": true
   },
   "outputs": [
    {
     "name": "stdout",
     "output_type": "stream",
     "text": [
      "time:  0.1949481964111328\n",
      "score:  0.4230769230769231\n",
      "mse:  1.5271493212669682\n",
      "mae:  0.8529411764705882\n"
     ]
    },
    {
     "data": {
      "image/png": "[encoded data removed]",
      "text/plain": [
       "<Figure size 432x288 with 1 Axes>"
      ]
     },
     "metadata": {
      "needs_background": "light"
     },
     "output_type": "display_data"
    }
   ],
   "source": [
    "lr = sklearn.linear_model.LogisticRegression(C=9999, solver='lbfgs', multi_class='auto', max_iter=10000)\n",
    "fitscore(lr, Xd, yd)"
   ]
  },
  {
   "cell_type": "code",
   "execution_count": 14,
   "metadata": {},
   "outputs": [
    {
     "name": "stdout",
     "output_type": "stream",
     "text": [
      "time:  0.038997650146484375\n",
      "score:  0.2986425339366516\n",
      "mse:  1.3167420814479638\n",
      "mae:  0.9004524886877828\n"
     ]
    },
    {
     "data": {
      "image/png": "[encoded data removed]",
      "text/plain": [
       "<Figure size 432x288 with 1 Axes>"
      ]
     },
     "metadata": {
      "needs_background": "light"
     },
     "output_type": "display_data"
    }
   ],
   "source": [
    "lat = OrderedLogitRanker(alpha=1, verbose=1, variant='at')\n",
    "fitscore(lat, Xd, yd)"
   ]
  },
  {
   "cell_type": "code",
   "execution_count": 15,
   "metadata": {},
   "outputs": [
    {
     "name": "stdout",
     "output_type": "stream",
     "text": [
      "time:  0.02700042724609375\n",
      "score:  0.3733031674208145\n",
      "mse:  1.6877828054298643\n",
      "mae:  0.9366515837104072\n"
     ]
    },
    {
     "data": {
      "image/png": "[encoded data removed]",
      "text/plain": [
       "<Figure size 432x288 with 1 Axes>"
      ]
     },
     "metadata": {
      "needs_background": "light"
     },
     "output_type": "display_data"
    }
   ],
   "source": [
    "lit = OrderedLogitRanker(alpha=1, verbose=1, variant='it')\n",
    "fitscore(lit, Xd, yd)"
   ]
  },
  {
   "cell_type": "code",
   "execution_count": 16,
   "metadata": {},
   "outputs": [
    {
     "name": "stdout",
     "output_type": "stream",
     "text": [
      "time:  0.03999638557434082\n",
      "score:  0.28054298642533937\n",
      "mse:  1.3574660633484164\n",
      "mae:  0.9230769230769231\n"
     ]
    },
    {
     "data": {
      "image/png": "[encoded data removed]",
      "text/plain": [
       "<Figure size 432x288 with 1 Axes>"
      ]
     },
     "metadata": {
      "needs_background": "light"
     },
     "output_type": "display_data"
    }
   ],
   "source": [
    "lse = OrderedLogitRanker(alpha=1, verbose=1, variant='se')\n",
    "fitscore(lse, Xd, yd)"
   ]
  },
  {
   "cell_type": "code",
   "execution_count": 17,
   "metadata": {},
   "outputs": [
    {
     "name": "stdout",
     "output_type": "stream",
     "text": [
      "time:  1.564086675643921\n",
      "score:  0.3506787330316742\n",
      "mse:  1.4434389140271493\n",
      "mae:  0.8823529411764706\n"
     ]
    },
    {
     "data": {
      "image/png": "[encoded data removed]",
      "text/plain": [
       "<Figure size 432x288 with 1 Axes>"
      ]
     },
     "metadata": {
      "needs_background": "light"
     },
     "output_type": "display_data"
    }
   ],
   "source": [
    "opr = OrderedProbitRanker(method='L-BFGS-B', use_grad=False)\n",
    "fitscore(opr, Xd, yd)"
   ]
  },
  {
   "cell_type": "markdown",
   "metadata": {},
   "source": [
    "# Testing"
   ]
  },
  {
   "cell_type": "code",
   "execution_count": 26,
   "metadata": {
    "scrolled": true
   },
   "outputs": [
    {
     "name": "stdout",
     "output_type": "stream",
     "text": [
      "time:  2.201390266418457\n",
      "score:  0.3506787330316742\n",
      "cuts:  [-1.17651806 -0.3330453   0.38762989  1.19861104  2.47597302]\n"
     ]
    }
   ],
   "source": [
    "X = Xd\n",
    "y = yd\n",
    "\n",
    "opr = OrderedProbitRanker(method='L-BFGS-B', use_grad=False)\n",
    "start = time.time()\n",
    "opr.fit(X, y)\n",
    "pred_val = opr.predict(X)\n",
    "print(\"time: \", time.time() - start)\n",
    "print(\"score: \", metrics.accuracy_score(pred_val, y))\n",
    "print(\"cuts: \", opr.cuts_)"
   ]
  },
  {
   "cell_type": "code",
   "execution_count": 75,
   "metadata": {
    "scrolled": true
   },
   "outputs": [
    {
     "data": {
      "text/plain": [
       "-610.275337759123"
      ]
     },
     "execution_count": 75,
     "metadata": {},
     "output_type": "execute_result"
    }
   ],
   "source": [
    "ymasks = np.array([np.array(y == c_) for c_ in opr.classes_])\n",
    "\n",
    "n_class = len(opr.classes_)\n",
    "n_cuts = len(opr.classes_) - 1\n",
    "n_samples = X.shape[0]\n",
    "n_features = X.shape[1]\n",
    "\n",
    "xb = X @ opr.coef_\n",
    "# cdf up to cutpoints\n",
    "cdf_areas = [norm.cdf(ct - xb) for ct in opr.cuts_]\n",
    "# last cdf area is from last cutpoint on\n",
    "cdf_areas.append(cdf_areas[-1])\n",
    "cdf_areas = np.array(cdf_areas)\n",
    "# pdf areas between cutpoints = cdf[i] - cdf[i-1]\n",
    "pdf_areas = np.empty_like(ymasks, dtype='float')\n",
    "# first is cdf[cut_0] - 0\n",
    "pdf_areas[0] = cdf_areas[0]\n",
    "# last is 1 - cdf[last_cut]\n",
    "pdf_areas[-1] = 1 - cdf_areas[-1]\n",
    "# middle cuts are cdf area between each\n",
    "for i in range(1, n_cuts):\n",
    "    pdf_areas[i] = cdf_areas[i] - cdf_areas[i-1]\n",
    "res = np.zeros(n_samples)\n",
    "for i in range(len(ymasks)):\n",
    "    res += (ymasks[i] * pdf_areas[i])\n",
    "\n",
    "res = np.sum(np.log(res))\n",
    "res"
   ]
  },
  {
   "cell_type": "code",
   "execution_count": 77,
   "metadata": {},
   "outputs": [
    {
     "data": {
      "text/html": [
       "<div>\n",
       "<style scoped>\n",
       "    .dataframe tbody tr th:only-of-type {\n",
       "        vertical-align: middle;\n",
       "    }\n",
       "\n",
       "    .dataframe tbody tr th {\n",
       "        vertical-align: top;\n",
       "    }\n",
       "\n",
       "    .dataframe thead th {\n",
       "        text-align: right;\n",
       "    }\n",
       "</style>\n",
       "<table border=\"1\" class=\"dataframe\">\n",
       "  <thead>\n",
       "    <tr style=\"text-align: right;\">\n",
       "      <th></th>\n",
       "      <th>0</th>\n",
       "      <th>1</th>\n",
       "      <th>2</th>\n",
       "      <th>3</th>\n",
       "      <th>4</th>\n",
       "      <th>5</th>\n",
       "      <th>6</th>\n",
       "      <th>7</th>\n",
       "      <th>8</th>\n",
       "      <th>9</th>\n",
       "      <th>...</th>\n",
       "      <th>432</th>\n",
       "      <th>433</th>\n",
       "      <th>434</th>\n",
       "      <th>435</th>\n",
       "      <th>436</th>\n",
       "      <th>437</th>\n",
       "      <th>438</th>\n",
       "      <th>439</th>\n",
       "      <th>440</th>\n",
       "      <th>441</th>\n",
       "    </tr>\n",
       "  </thead>\n",
       "  <tbody>\n",
       "    <tr>\n",
       "      <th>0</th>\n",
       "      <td>0.014257</td>\n",
       "      <td>0.685557</td>\n",
       "      <td>0.050055</td>\n",
       "      <td>0.065961</td>\n",
       "      <td>0.226139</td>\n",
       "      <td>0.404689</td>\n",
       "      <td>0.619628</td>\n",
       "      <td>0.272612</td>\n",
       "      <td>0.090087</td>\n",
       "      <td>0.010321</td>\n",
       "      <td>...</td>\n",
       "      <td>0.006760</td>\n",
       "      <td>0.730568</td>\n",
       "      <td>0.208806</td>\n",
       "      <td>0.271143</td>\n",
       "      <td>0.781028</td>\n",
       "      <td>0.024427</td>\n",
       "      <td>0.373713</td>\n",
       "      <td>0.266596</td>\n",
       "      <td>0.010278</td>\n",
       "      <td>0.785261</td>\n",
       "    </tr>\n",
       "    <tr>\n",
       "      <th>1</th>\n",
       "      <td>0.074785</td>\n",
       "      <td>0.222150</td>\n",
       "      <td>0.161554</td>\n",
       "      <td>0.187675</td>\n",
       "      <td>0.310452</td>\n",
       "      <td>0.321805</td>\n",
       "      <td>0.254883</td>\n",
       "      <td>0.321657</td>\n",
       "      <td>0.219596</td>\n",
       "      <td>0.060326</td>\n",
       "      <td>...</td>\n",
       "      <td>0.045181</td>\n",
       "      <td>0.197012</td>\n",
       "      <td>0.304318</td>\n",
       "      <td>0.321408</td>\n",
       "      <td>0.166263</td>\n",
       "      <td>0.105573</td>\n",
       "      <td>0.325256</td>\n",
       "      <td>0.320598</td>\n",
       "      <td>0.060157</td>\n",
       "      <td>0.163563</td>\n",
       "    </tr>\n",
       "    <tr>\n",
       "      <th>2</th>\n",
       "      <td>0.176614</td>\n",
       "      <td>0.071985</td>\n",
       "      <td>0.256440</td>\n",
       "      <td>0.269324</td>\n",
       "      <td>0.255164</td>\n",
       "      <td>0.180575</td>\n",
       "      <td>0.094653</td>\n",
       "      <td>0.237006</td>\n",
       "      <td>0.278910</td>\n",
       "      <td>0.155887</td>\n",
       "      <td>...</td>\n",
       "      <td>0.130621</td>\n",
       "      <td>0.057742</td>\n",
       "      <td>0.261325</td>\n",
       "      <td>0.237606</td>\n",
       "      <td>0.043062</td>\n",
       "      <td>0.212475</td>\n",
       "      <td>0.193934</td>\n",
       "      <td>0.239456</td>\n",
       "      <td>0.155627</td>\n",
       "      <td>0.041895</td>\n",
       "    </tr>\n",
       "    <tr>\n",
       "      <th>3</th>\n",
       "      <td>0.307720</td>\n",
       "      <td>0.018179</td>\n",
       "      <td>0.299502</td>\n",
       "      <td>0.284497</td>\n",
       "      <td>0.156005</td>\n",
       "      <td>0.076506</td>\n",
       "      <td>0.027150</td>\n",
       "      <td>0.130378</td>\n",
       "      <td>0.261051</td>\n",
       "      <td>0.297656</td>\n",
       "      <td>...</td>\n",
       "      <td>0.279729</td>\n",
       "      <td>0.013281</td>\n",
       "      <td>0.166708</td>\n",
       "      <td>0.131125</td>\n",
       "      <td>0.008832</td>\n",
       "      <td>0.314883</td>\n",
       "      <td>0.087066</td>\n",
       "      <td>0.133463</td>\n",
       "      <td>0.297503</td>\n",
       "      <td>0.008506</td>\n",
       "    </tr>\n",
       "    <tr>\n",
       "      <th>4</th>\n",
       "      <td>0.354800</td>\n",
       "      <td>0.002111</td>\n",
       "      <td>0.210137</td>\n",
       "      <td>0.176603</td>\n",
       "      <td>0.050380</td>\n",
       "      <td>0.016102</td>\n",
       "      <td>0.003647</td>\n",
       "      <td>0.037194</td>\n",
       "      <td>0.139975</td>\n",
       "      <td>0.385367</td>\n",
       "      <td>...</td>\n",
       "      <td>0.419244</td>\n",
       "      <td>0.001387</td>\n",
       "      <td>0.056601</td>\n",
       "      <td>0.037547</td>\n",
       "      <td>0.000809</td>\n",
       "      <td>0.296419</td>\n",
       "      <td>0.019598</td>\n",
       "      <td>0.038663</td>\n",
       "      <td>0.385736</td>\n",
       "      <td>0.000770</td>\n",
       "    </tr>\n",
       "    <tr>\n",
       "      <th>5</th>\n",
       "      <td>0.071824</td>\n",
       "      <td>0.000018</td>\n",
       "      <td>0.022313</td>\n",
       "      <td>0.015939</td>\n",
       "      <td>0.001861</td>\n",
       "      <td>0.000323</td>\n",
       "      <td>0.000038</td>\n",
       "      <td>0.001154</td>\n",
       "      <td>0.010381</td>\n",
       "      <td>0.090442</td>\n",
       "      <td>...</td>\n",
       "      <td>0.118464</td>\n",
       "      <td>0.000010</td>\n",
       "      <td>0.002242</td>\n",
       "      <td>0.001171</td>\n",
       "      <td>0.000005</td>\n",
       "      <td>0.046224</td>\n",
       "      <td>0.000434</td>\n",
       "      <td>0.001225</td>\n",
       "      <td>0.090698</td>\n",
       "      <td>0.000004</td>\n",
       "    </tr>\n",
       "  </tbody>\n",
       "</table>\n",
       "<p>6 rows × 442 columns</p>\n",
       "</div>"
      ],
      "text/plain": [
       "        0         1         2         3         4         5         6    \\\n",
       "0  0.014257  0.685557  0.050055  0.065961  0.226139  0.404689  0.619628   \n",
       "1  0.074785  0.222150  0.161554  0.187675  0.310452  0.321805  0.254883   \n",
       "2  0.176614  0.071985  0.256440  0.269324  0.255164  0.180575  0.094653   \n",
       "3  0.307720  0.018179  0.299502  0.284497  0.156005  0.076506  0.027150   \n",
       "4  0.354800  0.002111  0.210137  0.176603  0.050380  0.016102  0.003647   \n",
       "5  0.071824  0.000018  0.022313  0.015939  0.001861  0.000323  0.000038   \n",
       "\n",
       "        7         8         9      ...          432       433       434  \\\n",
       "0  0.272612  0.090087  0.010321    ...     0.006760  0.730568  0.208806   \n",
       "1  0.321657  0.219596  0.060326    ...     0.045181  0.197012  0.304318   \n",
       "2  0.237006  0.278910  0.155887    ...     0.130621  0.057742  0.261325   \n",
       "3  0.130378  0.261051  0.297656    ...     0.279729  0.013281  0.166708   \n",
       "4  0.037194  0.139975  0.385367    ...     0.419244  0.001387  0.056601   \n",
       "5  0.001154  0.010381  0.090442    ...     0.118464  0.000010  0.002242   \n",
       "\n",
       "        435       436       437       438       439       440       441  \n",
       "0  0.271143  0.781028  0.024427  0.373713  0.266596  0.010278  0.785261  \n",
       "1  0.321408  0.166263  0.105573  0.325256  0.320598  0.060157  0.163563  \n",
       "2  0.237606  0.043062  0.212475  0.193934  0.239456  0.155627  0.041895  \n",
       "3  0.131125  0.008832  0.314883  0.087066  0.133463  0.297503  0.008506  \n",
       "4  0.037547  0.000809  0.296419  0.019598  0.038663  0.385736  0.000770  \n",
       "5  0.001171  0.000005  0.046224  0.000434  0.001225  0.090698  0.000004  \n",
       "\n",
       "[6 rows x 442 columns]"
      ]
     },
     "execution_count": 77,
     "metadata": {},
     "output_type": "execute_result"
    }
   ],
   "source": [
    "pd.DataFrame(pdf_areas)"
   ]
  },
  {
   "cell_type": "code",
   "execution_count": 81,
   "metadata": {},
   "outputs": [],
   "source": [
    "# expression x[:, None] - xb outputs shape (n_class - 1, n_samples)\n",
    "cdf_areas = norm.cdf(np.hstack((-np.inf, opr.cuts_, np.inf))[:, None] - xb)\n",
    "dist_areas = np.diff(cdf_areas, axis=0)"
   ]
  },
  {
   "cell_type": "code",
   "execution_count": 86,
   "metadata": {},
   "outputs": [
    {
     "data": {
      "text/plain": [
       "(442,)"
      ]
     },
     "execution_count": 86,
     "metadata": {},
     "output_type": "execute_result"
    }
   ],
   "source": [
    "np.sum(ymasks * dist_areas, axis=0).shape"
   ]
  },
  {
   "cell_type": "code",
   "execution_count": 20,
   "metadata": {
    "scrolled": true
   },
   "outputs": [],
   "source": [
    "L = np.zeros((n_class - 1, n_class - 1))\n",
    "L[np.tril_indices(n_class-1)] = 1.\n",
    "\n",
    "loss_fd_weights = np.ones((n_class, n_class - 1))"
   ]
  },
  {
   "cell_type": "code",
   "execution_count": 21,
   "metadata": {},
   "outputs": [
    {
     "data": {
      "text/plain": [
       "array([[ 0.05816366],\n",
       "       [ 1.5996726 ],\n",
       "       [ 4.498886  ],\n",
       "       [ 8.04202959],\n",
       "       [12.24565473]])"
      ]
     },
     "execution_count": 21,
     "metadata": {},
     "output_type": "execute_result"
    }
   ],
   "source": [
    "(L @ opr.cuts_)[:, None]"
   ]
  },
  {
   "cell_type": "code",
   "execution_count": 22,
   "metadata": {},
   "outputs": [
    {
     "data": {
      "text/plain": [
       "array([0.05816366, 1.54150895, 2.89921339, 3.54314359, 4.20362514])"
      ]
     },
     "execution_count": 22,
     "metadata": {},
     "output_type": "execute_result"
    }
   ],
   "source": [
    "opr.cuts_"
   ]
  },
  {
   "cell_type": "code",
   "execution_count": null,
   "metadata": {},
   "outputs": [],
   "source": []
  }
 ],
 "metadata": {
  "kernelspec": {
   "display_name": "Python 3",
   "language": "python",
   "name": "python3"
  },
  "language_info": {
   "codemirror_mode": {
    "name": "ipython",
    "version": 3
   },
   "file_extension": ".py",
   "mimetype": "text/x-python",
   "name": "python",
   "nbconvert_exporter": "python",
   "pygments_lexer": "ipython3",
   "version": "3.7.1"
  }
 },
 "nbformat": 4,
 "nbformat_minor": 2
}
